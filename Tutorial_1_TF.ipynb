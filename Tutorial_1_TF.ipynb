{
 "cells": [
  {
   "cell_type": "markdown",
   "metadata": {},
   "source": [
    "# TensorFlow Tutorial 1: Convolutional Neural Network\n",
    "#### MNIST\n"
   ]
  },
  {
   "cell_type": "markdown",
   "metadata": {},
   "source": [
    "## Introducción\n",
    "\n",
    "Código base para generar una CNN. El objetivo es lograr la clasificación de las imágenes de MNIST."
   ]
  },
  {
   "cell_type": "markdown",
   "metadata": {},
   "source": [
    "## Dependencias"
   ]
  },
  {
   "cell_type": "code",
   "execution_count": 224,
   "metadata": {},
   "outputs": [
    {
     "name": "stdout",
     "output_type": "stream",
     "text": [
      "ready\n"
     ]
    }
   ],
   "source": [
    "%matplotlib inline\n",
    "from __future__ import absolute_import\n",
    "from __future__ import division\n",
    "from __future__ import print_function\n",
    "import matplotlib.pyplot as plt\n",
    "import tensorflow as tf\n",
    "import numpy as np\n",
    "from sklearn.metrics import confusion_matrix\n",
    "import time\n",
    "from datetime import timedelta\n",
    "import math\n",
    "print (\"ready\")"
   ]
  },
  {
   "cell_type": "markdown",
   "metadata": {},
   "source": [
    "Este código usa Python 2.7 en ambiente Anaconda (debería se compatible con cualquier versión de python) y TensorFlow versión:"
   ]
  },
  {
   "cell_type": "code",
   "execution_count": 225,
   "metadata": {},
   "outputs": [
    {
     "data": {
      "text/plain": [
       "'1.3.0'"
      ]
     },
     "execution_count": 225,
     "metadata": {},
     "output_type": "execute_result"
    }
   ],
   "source": [
    "tf.__version__"
   ]
  },
  {
   "cell_type": "markdown",
   "metadata": {},
   "source": [
    "## Configuración por defecto de la red convolucional\n",
    "\n",
    "La configuración macro de la red se muestra a continuación. Usted es libre de modificar estos parámetros según estime conveniente."
   ]
  },
  {
   "cell_type": "code",
   "execution_count": 226,
   "metadata": {},
   "outputs": [
    {
     "name": "stdout",
     "output_type": "stream",
     "text": [
      "ready\n"
     ]
    }
   ],
   "source": [
    "# Convolutional Layer 1.\n",
    "filter_size1 = 5          # Filtros son de 5 x 5 pixeles.\n",
    "num_filters1 = 16         # Hay 16 de estos filtros. Probar con 32\n",
    "\n",
    "# Convolutional Layer 2.\n",
    "filter_size2 = 5          # Filtros son de 5x5 pixeles.\n",
    "num_filters2 = 36         # Hay 16 de estos filtros. Probar con 64\n",
    "\n",
    "# Fully-connected layer.\n",
    "fc_size = 128             # Número de neuronas de la capa fully-connected. Probar con 1024\n",
    "\n",
    "print (\"ready\")"
   ]
  },
  {
   "cell_type": "markdown",
   "metadata": {},
   "source": [
    "## Descarga y/o carga de la base de datos"
   ]
  },
  {
   "cell_type": "markdown",
   "metadata": {},
   "source": [
    "La base de datos MNIST pesa aproximadamente 12 MB. Si no está en el directorio 'data/MNIST', será descargada automáticamente al ejecutar el siguiente bloque de código."
   ]
  },
  {
   "cell_type": "code",
   "execution_count": 227,
   "metadata": {},
   "outputs": [
    {
     "name": "stdout",
     "output_type": "stream",
     "text": [
      "Extracting data/MNIST/train-images-idx3-ubyte.gz\n",
      "Extracting data/MNIST/train-labels-idx1-ubyte.gz\n",
      "Extracting data/MNIST/t10k-images-idx3-ubyte.gz\n",
      "Extracting data/MNIST/t10k-labels-idx1-ubyte.gz\n"
     ]
    }
   ],
   "source": [
    "from tensorflow.examples.tutorials.mnist import input_data\n",
    "data = input_data.read_data_sets('data/MNIST/', one_hot=True)\n"
   ]
  },
  {
   "cell_type": "markdown",
   "metadata": {},
   "source": [
    "A continuación la base de datos es dividida en tres subconjuntos mutuamente excluyentes."
   ]
  },
  {
   "cell_type": "code",
   "execution_count": 228,
   "metadata": {},
   "outputs": [
    {
     "name": "stdout",
     "output_type": "stream",
     "text": [
      "Tamaños de los subconjuntos de la base de datos:\n",
      "Training-set:\t\t55000\n",
      "Test-set:\t\t10000\n",
      "Validation-set:\t\t5000\n"
     ]
    }
   ],
   "source": [
    "print(\"Tamaños de los subconjuntos de la base de datos:\")\n",
    "print(\"Training-set:\\t\\t{}\".format(len(data.train.labels)))\n",
    "print(\"Test-set:\\t\\t{}\".format(len(data.test.labels)))\n",
    "print(\"Validation-set:\\t\\t{}\".format(len(data.validation.labels)))"
   ]
  },
  {
   "cell_type": "markdown",
   "metadata": {},
   "source": [
    "Las etiquetas de las clases están codificadas en \"One-Hot\". El dígito \"cero\" corresponde a la clase 0, el dígito \"uno\" a la clase 1 y así sucesivamente.Para medir el desempeño de la red se guardan previamente las etiquetas de las clases del conjunto de prueba y validación:"
   ]
  },
  {
   "cell_type": "code",
   "execution_count": 229,
   "metadata": {},
   "outputs": [
    {
     "name": "stdout",
     "output_type": "stream",
     "text": [
      "ready\n"
     ]
    }
   ],
   "source": [
    "data.test.cls = np.argmax(data.test.labels, axis=1)\n",
    "data.validation.cls = np.argmax(data.test.labels, axis=1)\n",
    "print (\"ready\")"
   ]
  },
  {
   "cell_type": "markdown",
   "metadata": {},
   "source": [
    "## Dimensiones de los datos"
   ]
  },
  {
   "cell_type": "markdown",
   "metadata": {},
   "source": [
    "A continuación se definen variables que caracterizan a las imágenes de la base de datos."
   ]
  },
  {
   "cell_type": "code",
   "execution_count": 230,
   "metadata": {},
   "outputs": [
    {
     "name": "stdout",
     "output_type": "stream",
     "text": [
      "ready\n"
     ]
    }
   ],
   "source": [
    "# Las imágenes de MNIST son de 28 x 28 pixeles.\n",
    "img_size = 28\n",
    "# Tamaño de arreglos unidimensionales que podrían guardar los datos de estas imágenes.\n",
    "img_size_flat = img_size * img_size\n",
    "# Tupla que sirve para redimensionar arreglos.\n",
    "img_shape = (img_size, img_size)\n",
    "# Número de canales de color de las imágenes. Si las imágenes fueran a color, este número sería 3.\n",
    "num_channels = 1\n",
    "# Número de clases.\n",
    "num_classes = 10\n",
    "print (\"ready\")"
   ]
  },
  {
   "cell_type": "markdown",
   "metadata": {},
   "source": [
    "## TensorFlow Graph\n",
    "\n",
    "El propósito de TensorFlow es tener un \"computational graph\" que puede ser ejecutado de forma muy eficiente.\n",
    "\n",
    "Un \"TensorFlow graph\" posee las siguientes componentes:\n",
    "\n",
    "* \"Placeholder variables\", usadas para entregarle información de entrada al grafo.\n",
    "* Variables que serán optimizadas para que la CNN se desempeñe mejor.\n",
    "* Método de optimización para actualizar las variables.\n",
    "* Función de costo que sirve para encauzar la actualización de variables.\n",
    "* Formulas matemáticas que use la CNN.\n"
   ]
  },
  {
   "cell_type": "markdown",
   "metadata": {},
   "source": [
    "### Funciones para crear variables nuevas"
   ]
  },
  {
   "cell_type": "markdown",
   "metadata": {},
   "source": [
    "Sirven para que usted cree pesos y biases para su CNN.\n",
    "\n",
    "Los pesos estan formados por un tensor 4-D con las siguientes dimensiones:\n",
    "\n",
    "1. Alto del filtro.\n",
    "2. Ancho del filtro.\n",
    "3. Canales del filtro.\n",
    "4. Cantidad de filtros existentes por capa (número de featureMaps a generar)."
   ]
  },
  {
   "cell_type": "code",
   "execution_count": 231,
   "metadata": {},
   "outputs": [
    {
     "name": "stdout",
     "output_type": "stream",
     "text": [
      "ready\n"
     ]
    }
   ],
   "source": [
    "def new_weights(shape):\n",
    "    return tf.Variable(tf.truncated_normal(shape, stddev=0.05))\n",
    "\n",
    "def new_biases(length):\n",
    "    return tf.Variable(tf.constant(0.05, shape=[length]))\n",
    "print (\"ready\")"
   ]
  },
  {
   "cell_type": "markdown",
   "metadata": {},
   "source": [
    "### Función para crear una nueva CNN"
   ]
  },
  {
   "cell_type": "markdown",
   "metadata": {},
   "source": [
    "Esta función crea una capa convolucional en el \"computational graph\" de Tensorflow.\n",
    "\n",
    "Se asume que la entrada es un tensor 4-D con las siguientes dimensiones:\n",
    "\n",
    "1. Número de imágenes.\n",
    "2. Dimensión Y (cartesiana) de cada imagen.\n",
    "3. Dimensión X (cartesiana) de cada imagen.\n",
    "4. Canales de cada imagen.\n",
    "\n",
    "La salida es otro tensor 4-D con las siguientes dimensiones:\n",
    "\n",
    "1. Número de imágenes, el mismo que el de la entrada.\n",
    "2. Dimensión Y (cartesiana) de cada imagen. \n",
    "3. Dimensión X (cartesiana) de cada imagen.\n",
    "4. Canales producidos por los filtros convolucionales."
   ]
  },
  {
   "cell_type": "code",
   "execution_count": 232,
   "metadata": {},
   "outputs": [
    {
     "name": "stdout",
     "output_type": "stream",
     "text": [
      "ready\n"
     ]
    }
   ],
   "source": [
    "def new_conv_layer(input,              # Capa anterior.\n",
    "                   num_input_channels, # Numero de canales de la capa anterior.\n",
    "                   filter_size,        # Ancho y alto de cada filtro.\n",
    "                   num_filters,        # Número de filtros.\n",
    "                   use_pooling=True):  # Usar 2x2 max-pooling.\n",
    "\n",
    "    # Forma de los filtros convolucionales (de acuerdo a la API de TF).\n",
    "    shape = [filter_size, filter_size, num_input_channels, num_filters]\n",
    "\n",
    "    # Creación de los filtros.\n",
    "    weights = new_weights(shape=shape)\n",
    "\n",
    "    # Creación de biases, uno por filtro.\n",
    "    biases = new_biases(length=num_filters)\n",
    "\n",
    "    # Creación de la operación de convolución para TensorFlow.\n",
    "    # Notar que se han configurado los strides en 1 para todas las dimensiones.\n",
    "    # El primero y último stride siempre deben ser uno.\n",
    "    # Si strides=[1, 2, 2, 1], entonces el filtro es movido\n",
    "    # de 2 en 2 pixeles a lo largo de los ejes x e y de la imagen.\n",
    "    # padding='SAME' significa que la imagen de entrada se rellena\n",
    "    # con ceros para que el tamaño de la salida se mantenga.\n",
    "    # La otra alternativa es 'VALID', donde no hay zero-padding\n",
    "    layer = tf.nn.conv2d(input=input,\n",
    "                         filter=weights,\n",
    "                         strides=[1, 1, 1, 1],\n",
    "                         padding='SAME')\n",
    "\n",
    "    # Agregar los biases a los resultados de la convolución.\n",
    "    layer += biases\n",
    "\n",
    "    # Usar pooling para hacer down-sample de la entrada.\n",
    "    if use_pooling:\n",
    "        # Este es 2x2 max pooling, lo que significa que se considera\n",
    "        # una ventana de 2x2 y se selecciona el valor mayor\n",
    "        # de los 4 pixeles seleccionados. ksize representa las dimensiones de \n",
    "        # la ventana de pooling y el stride define cómo la ventana se mueve por la imagen.\n",
    "        layer = tf.nn.max_pool(value=layer,\n",
    "                               ksize=[1, 2, 2, 1],\n",
    "                               strides=[1, 2, 2, 1],\n",
    "                               padding='SAME')\n",
    "\n",
    "    # Rectified Linear Unit (ReLU).\n",
    "    layer = tf.nn.relu(layer)\n",
    "\n",
    "    # La función retorna el resultado de la capa y los pesos aprendidos.\n",
    "    return layer, weights\n",
    "print (\"ready\")"
   ]
  },
  {
   "cell_type": "markdown",
   "metadata": {},
   "source": [
    "### Función para estirar un tensor de salida\n",
    "\n",
    "Se usa para reducir las dimensiones del tensor de salida de la capa convolucional a uno 2D que sirva de entrada a la capa fully connected."
   ]
  },
  {
   "cell_type": "code",
   "execution_count": 233,
   "metadata": {},
   "outputs": [
    {
     "name": "stdout",
     "output_type": "stream",
     "text": [
      "ready\n"
     ]
    }
   ],
   "source": [
    "def flatten_layer(layer):\n",
    "    # Obtener dimensiones de la entrada.\n",
    "    layer_shape = layer.get_shape()\n",
    "\n",
    "    # Obtener numero de características.\n",
    "    num_features = layer_shape[1:4].num_elements()\n",
    "    \n",
    "    # Redimensionar la salida a [num_images, num_features].\n",
    "    layer_flat = tf.reshape(layer, [-1, num_features])\n",
    "\n",
    "    # Las dimensiones de la salida son ahora:\n",
    "    # [num_images, img_height * img_width * num_channels]\n",
    "    # Retornar\n",
    "    return layer_flat, num_features\n",
    "print (\"ready\")"
   ]
  },
  {
   "cell_type": "markdown",
   "metadata": {},
   "source": [
    "### Función para crear capa fully-connected"
   ]
  },
  {
   "cell_type": "code",
   "execution_count": 234,
   "metadata": {},
   "outputs": [
    {
     "name": "stdout",
     "output_type": "stream",
     "text": [
      "ready\n"
     ]
    }
   ],
   "source": [
    "def new_fc_layer(input,          # Capa anterior.\n",
    "                 num_inputs,     # Numero de entradas.\n",
    "                 num_outputs,    # Numero de salidas.\n",
    "                 keep=1,           # probabilidad de permanencia de la neurona\n",
    "                 use_dropout=False, # usar o no Dropout\n",
    "                 use_relu=True): # Decide si usar ReLU o no.\n",
    "\n",
    "    # Crear pesos y biases.\n",
    "    weights = new_weights(shape=[num_inputs, num_outputs])\n",
    "    biases = new_biases(length=num_outputs)\n",
    "\n",
    "    # Evaluar capa fully connected.\n",
    "    layer = tf.matmul(input, weights) + biases\n",
    "\n",
    "    # Usar ReLU? OJO: última capa no utiliza activación, debido a normalización softmax\n",
    "    if use_relu:\n",
    "        layer = tf.nn.relu(layer)\n",
    "    \n",
    "    # Usar DropOut? OJO: última capa no usa DropOut, osino perdería codificación OneHot\n",
    "    if use_dropout:\n",
    "        layer=tf.nn.dropout(layer,keep_prob=keep)\n",
    "\n",
    "    return layer\n",
    "print (\"ready\")"
   ]
  },
  {
   "cell_type": "markdown",
   "metadata": {},
   "source": [
    "### Placeholder variables"
   ]
  },
  {
   "cell_type": "markdown",
   "metadata": {},
   "source": [
    "Las variables \"placeholder\" sirven como entradas para el \"computational graph\" de Tensorflow.\n",
    "Primero se define una variable placeholder para las imágenes de entrada. Estas son interpretadas como \"tensores\" (vectores o matrices multidimensionales). El tipo de datos se configura como `float32`, y su forma se deja como `[None, img_size_flat]`, donde `None` significa que el tensor puede contener un numero arbitrario de imágenes, cada una representada como un vector de largo `img_size_flat`."
   ]
  },
  {
   "cell_type": "code",
   "execution_count": 235,
   "metadata": {},
   "outputs": [
    {
     "name": "stdout",
     "output_type": "stream",
     "text": [
      "ready\n"
     ]
    }
   ],
   "source": [
    "x = tf.placeholder(tf.float32, shape=[None, img_size_flat], name='x')\n",
    "print (\"ready\")"
   ]
  },
  {
   "cell_type": "markdown",
   "metadata": {},
   "source": [
    "La red convolucional espera que `x` sea un tensor 4-D, por lo que es necesario hacer un re-shape. \n",
    "La forma del tensor debe ser `[num_images, img_height, img_width, num_channels]`.\n",
    "Notar que `img_height == img_width == img_size` y `num_images` puede ser calculada, por lo que se usa -1 en la primera dimensión."
   ]
  },
  {
   "cell_type": "code",
   "execution_count": 236,
   "metadata": {},
   "outputs": [
    {
     "name": "stdout",
     "output_type": "stream",
     "text": [
      "ready\n"
     ]
    }
   ],
   "source": [
    "x_image = tf.reshape(x, [-1, img_size, img_size, num_channels])\n",
    "print (\"ready\")"
   ]
  },
  {
   "cell_type": "markdown",
   "metadata": {},
   "source": [
    "Análogamente, se define un placeholder para tener los valores de las etiquetas de las clases."
   ]
  },
  {
   "cell_type": "code",
   "execution_count": 237,
   "metadata": {},
   "outputs": [
    {
     "name": "stdout",
     "output_type": "stream",
     "text": [
      "ready\n"
     ]
    }
   ],
   "source": [
    "y_true = tf.placeholder(tf.float32, shape=[None, 10], name='y_true')\n",
    "print (\"ready\")"
   ]
  },
  {
   "cell_type": "markdown",
   "metadata": {},
   "source": [
    "También se podría tener un placeholder con el número de la clase, pero en vez de eso se va a calcular, pues se usará softmax en la capa fully connected final."
   ]
  },
  {
   "cell_type": "code",
   "execution_count": 238,
   "metadata": {},
   "outputs": [
    {
     "name": "stdout",
     "output_type": "stream",
     "text": [
      "ready\n"
     ]
    }
   ],
   "source": [
    "y_true_cls = tf.argmax(y_true, axis=1)\n",
    "print (\"ready\")"
   ]
  },
  {
   "cell_type": "markdown",
   "metadata": {},
   "source": [
    "Finalmente se agrega un placeholder para la probabilidad de dropout, con el fin de dejarla en 1 al momento de evaluar la red, de lo contrario se apagarían distintas neuronas cada vez que esta se evalue."
   ]
  },
  {
   "cell_type": "code",
   "execution_count": 239,
   "metadata": {},
   "outputs": [
    {
     "name": "stdout",
     "output_type": "stream",
     "text": [
      "ready\n"
     ]
    }
   ],
   "source": [
    "keep_prob = tf.placeholder(tf.float32)\n",
    "print (\"ready\")"
   ]
  },
  {
   "cell_type": "markdown",
   "metadata": {},
   "source": [
    "### Capa de convolución 1\n",
    "\n",
    "Creación de la primera capa de convolución. Al final se realiza submuestreo con un 2x2 max-pooling."
   ]
  },
  {
   "cell_type": "code",
   "execution_count": 240,
   "metadata": {},
   "outputs": [
    {
     "name": "stdout",
     "output_type": "stream",
     "text": [
      "ready\n"
     ]
    }
   ],
   "source": [
    "layer_conv1, weights_conv1 = \\\n",
    "    new_conv_layer(input=x_image,\n",
    "                   num_input_channels=num_channels,\n",
    "                   filter_size=filter_size1,\n",
    "                   num_filters=num_filters1,\n",
    "                   use_pooling=True)\n",
    "print (\"ready\")"
   ]
  },
  {
   "cell_type": "markdown",
   "metadata": {},
   "source": [
    "Puede revisar las dimensiones del tensor de salida como sigue:"
   ]
  },
  {
   "cell_type": "code",
   "execution_count": 241,
   "metadata": {},
   "outputs": [
    {
     "data": {
      "text/plain": [
       "<tf.Tensor 'Relu:0' shape=(?, 14, 14, 16) dtype=float32>"
      ]
     },
     "execution_count": 241,
     "metadata": {},
     "output_type": "execute_result"
    }
   ],
   "source": [
    "layer_conv1"
   ]
  },
  {
   "cell_type": "markdown",
   "metadata": {},
   "source": [
    "### Capa de convolución 2"
   ]
  },
  {
   "cell_type": "code",
   "execution_count": 242,
   "metadata": {},
   "outputs": [
    {
     "data": {
      "text/plain": [
       "<tf.Tensor 'Relu_1:0' shape=(?, 7, 7, 36) dtype=float32>"
      ]
     },
     "execution_count": 242,
     "metadata": {},
     "output_type": "execute_result"
    }
   ],
   "source": [
    "layer_conv2, weights_conv2 = \\\n",
    "    new_conv_layer(input=layer_conv1,\n",
    "                   num_input_channels=num_filters1,\n",
    "                   filter_size=filter_size2,\n",
    "                   num_filters=num_filters2,\n",
    "                   use_pooling=True)\n",
    "layer_conv2"
   ]
  },
  {
   "cell_type": "markdown",
   "metadata": {},
   "source": [
    "### Flatten Layer"
   ]
  },
  {
   "cell_type": "code",
   "execution_count": 243,
   "metadata": {},
   "outputs": [
    {
     "data": {
      "text/plain": [
       "<tf.Tensor 'Reshape_1:0' shape=(?, 1764) dtype=float32>"
      ]
     },
     "execution_count": 243,
     "metadata": {},
     "output_type": "execute_result"
    }
   ],
   "source": [
    "layer_flat, num_features = flatten_layer(layer_conv2)\n",
    "layer_flat"
   ]
  },
  {
   "cell_type": "markdown",
   "metadata": {},
   "source": [
    "### Capa fully-connected 1"
   ]
  },
  {
   "cell_type": "code",
   "execution_count": 244,
   "metadata": {},
   "outputs": [
    {
     "data": {
      "text/plain": [
       "<tf.Tensor 'dropout/mul:0' shape=(?, 128) dtype=float32>"
      ]
     },
     "execution_count": 244,
     "metadata": {},
     "output_type": "execute_result"
    }
   ],
   "source": [
    "layer_fc1 = new_fc_layer(input=layer_flat,\n",
    "                         num_inputs=num_features,\n",
    "                         num_outputs=fc_size,\n",
    "                         keep=keep_prob,\n",
    "                         use_dropout=True,\n",
    "                         use_relu=True)\n",
    "layer_fc1"
   ]
  },
  {
   "cell_type": "markdown",
   "metadata": {},
   "source": [
    "### Fully-Connected Layer 2"
   ]
  },
  {
   "cell_type": "code",
   "execution_count": 245,
   "metadata": {},
   "outputs": [
    {
     "data": {
      "text/plain": [
       "<tf.Tensor 'add_3:0' shape=(?, 10) dtype=float32>"
      ]
     },
     "execution_count": 245,
     "metadata": {},
     "output_type": "execute_result"
    }
   ],
   "source": [
    "layer_fc2 = new_fc_layer(input=layer_fc1,\n",
    "                         num_inputs=fc_size,\n",
    "                         num_outputs=num_classes,\n",
    "                         use_relu=False)\n",
    "layer_fc2"
   ]
  },
  {
   "cell_type": "markdown",
   "metadata": {},
   "source": [
    "### Clase predicha"
   ]
  },
  {
   "cell_type": "markdown",
   "metadata": {},
   "source": [
    "Se utiliza softmax para normalizar la salida, luego se toma el valor máximo."
   ]
  },
  {
   "cell_type": "markdown",
   "metadata": {},
   "source": [
    "### Función de costo"
   ]
  },
  {
   "cell_type": "markdown",
   "metadata": {},
   "source": [
    "Usamos cross-entropy.\n",
    "Tensorflow la implementa de forma nativa. Como la función calcula softmax internamente, debe entregarsele la salida de la capa fully-connected 2 directamente."
   ]
  },
  {
   "cell_type": "code",
   "execution_count": 246,
   "metadata": {},
   "outputs": [
    {
     "name": "stdout",
     "output_type": "stream",
     "text": [
      "ready\n"
     ]
    }
   ],
   "source": [
    "y_pred = tf.nn.softmax(layer_fc2)\n",
    "y_pred_cls = tf.argmax(y_pred, axis=1)\n",
    "print(\"ready\")"
   ]
  },
  {
   "cell_type": "code",
   "execution_count": 247,
   "metadata": {},
   "outputs": [
    {
     "name": "stdout",
     "output_type": "stream",
     "text": [
      "ready\n"
     ]
    }
   ],
   "source": [
    "cross_entropy = tf.nn.softmax_cross_entropy_with_logits(logits=layer_fc2,\n",
    "                                                        labels=y_true)\n",
    "print(\"ready\")"
   ]
  },
  {
   "cell_type": "markdown",
   "metadata": {},
   "source": [
    "Lo anterior calcula cross-entropy para cada imagen. El costo será el promedio de estas mediciones."
   ]
  },
  {
   "cell_type": "code",
   "execution_count": 248,
   "metadata": {},
   "outputs": [
    {
     "name": "stdout",
     "output_type": "stream",
     "text": [
      "ready\n"
     ]
    }
   ],
   "source": [
    "cost = tf.reduce_mean(cross_entropy)\n",
    "print(\"ready\")"
   ]
  },
  {
   "cell_type": "markdown",
   "metadata": {},
   "source": [
    "### Método de optimización"
   ]
  },
  {
   "cell_type": "markdown",
   "metadata": {},
   "source": [
    "Usamos `AdamOptimizer`.\n",
    "Puede cambiarlo según se pida en la tarea."
   ]
  },
  {
   "cell_type": "code",
   "execution_count": 249,
   "metadata": {},
   "outputs": [
    {
     "name": "stdout",
     "output_type": "stream",
     "text": [
      "ready\n"
     ]
    }
   ],
   "source": [
    "optimizer = tf.train.AdamOptimizer(learning_rate=1e-4).minimize(cost)\n",
    "print(\"ready\")"
   ]
  },
  {
   "cell_type": "markdown",
   "metadata": {},
   "source": [
    "### Medida de desempeño"
   ]
  },
  {
   "cell_type": "markdown",
   "metadata": {},
   "source": [
    "Se obtiene un vector de booleanos que indican si la clase predicha es o no igual a la clase verdadera de cada imagen.\n",
    "Luego dicho vector se niega para que True sea 1, y se calcula el promedio."
   ]
  },
  {
   "cell_type": "code",
   "execution_count": 250,
   "metadata": {},
   "outputs": [
    {
     "name": "stdout",
     "output_type": "stream",
     "text": [
      "ready\n"
     ]
    }
   ],
   "source": [
    "correct_prediction = tf.equal(y_pred_cls, y_true_cls)\n",
    "accuracy = tf.reduce_mean(tf.cast(correct_prediction, tf.float32))\n",
    "print(\"ready\")"
   ]
  },
  {
   "cell_type": "markdown",
   "metadata": {},
   "source": [
    "## Ejecutar TensorFlow "
   ]
  },
  {
   "cell_type": "markdown",
   "metadata": {},
   "source": [
    "### Crear TensorFlow session\n",
    "\n",
    "Ya creado el grafo de TF, se crea una sesión para ejecutarlo."
   ]
  },
  {
   "cell_type": "code",
   "execution_count": 251,
   "metadata": {},
   "outputs": [
    {
     "name": "stdout",
     "output_type": "stream",
     "text": [
      "ready\n"
     ]
    }
   ],
   "source": [
    "sess = tf.Session(config=tf.ConfigProto(log_device_placement=True)) #tf.InteractiveSession() #with tf.Session() as sess:\n",
    "print(\"ready\")"
   ]
  },
  {
   "cell_type": "markdown",
   "metadata": {},
   "source": [
    "### Inicialización de variables"
   ]
  },
  {
   "cell_type": "code",
   "execution_count": 252,
   "metadata": {},
   "outputs": [
    {
     "name": "stdout",
     "output_type": "stream",
     "text": [
      "ready\n"
     ]
    }
   ],
   "source": [
    "sess.run(tf.global_variables_initializer())\n",
    "print(\"ready\")"
   ]
  },
  {
   "cell_type": "markdown",
   "metadata": {},
   "source": [
    "### Función para realizar optimización"
   ]
  },
  {
   "cell_type": "code",
   "execution_count": 253,
   "metadata": {},
   "outputs": [
    {
     "name": "stdout",
     "output_type": "stream",
     "text": [
      "ready\n"
     ]
    }
   ],
   "source": [
    "# Entrenamiento realizado por batches.\n",
    "train_batch_size = 100\n",
    "\n",
    "# Contador de iteraciones.\n",
    "total_iterations = 0\n",
    "\n",
    "#entregar variables para entrenamiento y validación\n",
    "def feed_dict(mnist, train, batch_size, dropout=1):\n",
    "    if train:\n",
    "        xs, ys = data.train.next_batch(batch_size)\n",
    "        k = dropout\n",
    "    else:\n",
    "        xs= data.validation.images\n",
    "        ys = data.validation.labels\n",
    "        k = 1.0\n",
    "    return xs, ys, k\n",
    "\n",
    "\n",
    "def optimize(num_iterations):\n",
    "\n",
    "    #contador de epocas\n",
    "    j=0\n",
    "    #numero de iteraciones por epoca\n",
    "    ep=55000/train_batch_size\n",
    "    \n",
    "    # Tiempo de inicio\n",
    "    start_time = time.time()\n",
    "\n",
    "    for i in range(num_iterations):\n",
    "\n",
    "        # Obtener batch de conjunto de entrenamiento.\n",
    "        x_batch, y_true_batch, keep = feed_dict(data, True, train_batch_size, dropout=0.5)\n",
    "\n",
    "        # Se pone el batch en un diccionario asignandole nombres de las\n",
    "        # variables placeholder antes definidas.\n",
    "        feed_dict_train = {x: x_batch,\n",
    "                           y_true: y_true_batch, keep_prob: keep}\n",
    "\n",
    "\n",
    "\n",
    "        # Se imprime numero de epoca de entrenamiento, junto al accuracy de Validación.\n",
    "        if i % ep == 0:\n",
    "            msg = \"epoca: {0:>6}\"\n",
    "            print(msg.format(j+1))\n",
    "            \n",
    "            d_t = feed_dict(data, False, train_batch_size)\n",
    "            inp_t = {x:d_t[0], y_true:d_t[1], keep_prob:d_t[2]}\n",
    "            acc = sess.run(accuracy, feed_dict=inp_t) \n",
    "            num_val = len(data.validation.images)\n",
    "            correct_sum = acc*num_val\n",
    "            msg = \"Accuracy on Validation-Set: {0:.1%} ({1} / {2})\"\n",
    "            print(msg.format(acc, correct_sum, num_val))\n",
    "            j+=1\n",
    "        \n",
    "        #se imprime el train accuracy cada ep/10 iteraciones\n",
    "        if i % (ep/10) == 0:\n",
    "            train_acc = {x: x_batch,\n",
    "                           y_true: y_true_batch, keep_prob: 1.0}\n",
    "            acc = sess.run(accuracy, feed_dict=train_acc)\n",
    "            msg = \"Iterations: {0:>6}, Training Accuracy: {1:>6.1%}\"\n",
    "            print(msg.format(i, acc))\n",
    "        \n",
    "        # Ejecución del optimizador con los batches del diccionario.\n",
    "        sess.run(optimizer, feed_dict=feed_dict_train)\n",
    "\n",
    "    # Tiempo de finalización.\n",
    "    end_time = time.time()\n",
    "\n",
    "    # Tiempo transcurrido.\n",
    "    time_dif = end_time - start_time\n",
    "\n",
    "\n",
    "    print(\"Time usage: \" + str(timedelta(seconds=int(round(time_dif)))))\n",
    "print(\"ready\")"
   ]
  },
  {
   "cell_type": "markdown",
   "metadata": {},
   "source": [
    "### Función para mostrar desempeño en test-set"
   ]
  },
  {
   "cell_type": "code",
   "execution_count": 254,
   "metadata": {},
   "outputs": [
    {
     "name": "stdout",
     "output_type": "stream",
     "text": [
      "ready\n"
     ]
    }
   ],
   "source": [
    "# Dividir test set en batches. (Usa batches mas pequeños si la RAM falla).\n",
    "test_batch_size = 256\n",
    "\n",
    "def print_test_accuracy():\n",
    "\n",
    "    # Número de imagenes en test-set.\n",
    "    num_test = len(data.test.images)\n",
    "\n",
    "    # Crea arreglo para guardar clases predichas.\n",
    "    cls_pred = np.zeros(shape=num_test, dtype=np.int)\n",
    "\n",
    "    # Calcular clases predichas.\n",
    "    i = 0\n",
    "    while i < num_test:\n",
    "        \n",
    "        j = min(i + test_batch_size, num_test)\n",
    "        images = data.test.images[i:j, :]\n",
    "        labels = data.test.labels[i:j, :]\n",
    "        feed_dict = {x: images,\n",
    "                     y_true: labels, keep_prob: 1.0}\n",
    "\n",
    "        cls_pred[i:j] = sess.run(y_pred_cls, feed_dict=feed_dict)\n",
    "        i = j\n",
    "    \n",
    "    # Labels reales.\n",
    "    cls_true = data.test.cls\n",
    "\n",
    "    # Arreglo booleano de clasificaciones correctas.\n",
    "    correct = (cls_true == cls_pred)\n",
    "    \n",
    "    #Número de clasificaciones correctas.\n",
    "    correct_sum = correct.sum()\n",
    "\n",
    "    # Accuracy\n",
    "    acc = float(correct_sum) / num_test\n",
    "    msg = \"Accuracy on Test-Set: {0:.1%} ({1} / {2})\"\n",
    "    print(msg.format(acc, correct_sum, num_test))\n",
    "    \n",
    "print(\"ready\")"
   ]
  },
  {
   "cell_type": "markdown",
   "metadata": {},
   "source": [
    "## Optimizar\n",
    "\n",
    "Elige un número de iteraciones y entrena la CNN."
   ]
  },
  {
   "cell_type": "code",
   "execution_count": 255,
   "metadata": {
    "scrolled": false
   },
   "outputs": [
    {
     "name": "stdout",
     "output_type": "stream",
     "text": [
      "epoca:      1\n",
      "Accuracy on Validation-Set: 8.7% (434.000007808 / 5000)\n",
      "Iterations:      0, Training Accuracy:   9.0%\n",
      "Iterations:     55, Training Accuracy:  63.0%\n",
      "Iterations:    110, Training Accuracy:  69.0%\n",
      "Iterations:    165, Training Accuracy:  72.0%\n",
      "Iterations:    220, Training Accuracy:  83.0%\n",
      "Iterations:    275, Training Accuracy:  88.0%\n",
      "Iterations:    330, Training Accuracy:  90.0%\n",
      "Iterations:    385, Training Accuracy:  84.0%\n",
      "Iterations:    440, Training Accuracy:  92.0%\n",
      "Iterations:    495, Training Accuracy:  90.0%\n",
      "epoca:      2\n",
      "Accuracy on Validation-Set: 91.0% (4548.99996519 / 5000)\n",
      "Iterations:    550, Training Accuracy:  92.0%\n",
      "Iterations:    605, Training Accuracy:  92.0%\n",
      "Iterations:    660, Training Accuracy:  89.0%\n",
      "Iterations:    715, Training Accuracy:  92.0%\n",
      "Iterations:    770, Training Accuracy:  94.0%\n",
      "Iterations:    825, Training Accuracy:  84.0%\n",
      "Iterations:    880, Training Accuracy:  96.0%\n",
      "Iterations:    935, Training Accuracy:  91.0%\n",
      "Iterations:    990, Training Accuracy:  92.0%\n",
      "Iterations:   1045, Training Accuracy:  94.0%\n",
      "epoca:      3\n",
      "Accuracy on Validation-Set: 94.0% (4700.999856 / 5000)\n",
      "Iterations:   1100, Training Accuracy:  89.0%\n",
      "Time usage: 0:02:33\n"
     ]
    }
   ],
   "source": [
    "#Definir número de iteraciones que desea entrenar a la red\n",
    "optimize(num_iterations=1101) "
   ]
  },
  {
   "cell_type": "code",
   "execution_count": 256,
   "metadata": {
    "scrolled": true
   },
   "outputs": [
    {
     "name": "stdout",
     "output_type": "stream",
     "text": [
      "Accuracy on Test-Set: 93.8% (9380 / 10000)\n"
     ]
    }
   ],
   "source": [
    "print_test_accuracy()"
   ]
  },
  {
   "cell_type": "markdown",
   "metadata": {},
   "source": [
    "### Inicialización de TensorBoard para visualizar Grafo"
   ]
  },
  {
   "cell_type": "markdown",
   "metadata": {},
   "source": [
    "Abrir una consola con el ambiente de TensorFlow activo y ejecutar\n",
    "\n",
    "tensorboard --logdir=\"/home/asceta/Documents/tfTutorial/TB/tmp/mnist_tutorial/1\"\n",
    "\n",
    "A continuación se generará un link para abrir en el navegador, el que mostrará la info del grafo en TensorBoard"
   ]
  },
  {
   "cell_type": "code",
   "execution_count": 257,
   "metadata": {},
   "outputs": [],
   "source": [
    "# path a logs donde se guardará la info del grafo. Cambiar por ruta propia.\n",
    "LOGDIR = \"/home/asceta/Documents/tfTutorial/TB/tmp/mnist_tutorial/1\"\n",
    "\n",
    "\n",
    "writer = tf.summary.FileWriter(LOGDIR)\n",
    "writer.add_graph(sess.graph)"
   ]
  },
  {
   "cell_type": "markdown",
   "metadata": {},
   "source": [
    "### Cerrar TensorFlow Session"
   ]
  },
  {
   "cell_type": "code",
   "execution_count": 223,
   "metadata": {},
   "outputs": [
    {
     "name": "stdout",
     "output_type": "stream",
     "text": [
      "ready\n"
     ]
    }
   ],
   "source": [
    "# Si usted ejecuta esta linea de código debe cerrar el notebook y reiniciarlo.\n",
    "# Es solo para informar como liberar los recursos que ocupa TF.\n",
    "tf.reset_default_graph()\n",
    "sess.close()\n",
    "print(\"ready\")"
   ]
  },
  {
   "cell_type": "markdown",
   "metadata": {},
   "source": [
    "### Diferencia entre .eval y .run "
   ]
  },
  {
   "cell_type": "code",
   "execution_count": 51,
   "metadata": {},
   "outputs": [],
   "source": [
    "t = tf.constant(42.0)\n",
    "u = tf.constant(37.0)\n",
    "tu = t*u\n",
    "ut = u*t\n",
    "with tf.Session() as sess:\n",
    "   sess.run(tf.global_variables_initializer())\n",
    "   assert t.eval() == sess.run(t)\n",
    "   tu.eval()  # runs one step and useful to evaluate a tensor, equivalent to sess.run(tu)\n",
    "   ut.eval()  # runs one step\n",
    "   sess.run([tu, ut])  # evaluates both tensors in a single step"
   ]
  }
 ],
 "metadata": {
  "anaconda-cloud": {},
  "kernelspec": {
   "display_name": "Python 2",
   "language": "python",
   "name": "python2"
  },
  "language_info": {
   "codemirror_mode": {
    "name": "ipython",
    "version": 2
   },
   "file_extension": ".py",
   "mimetype": "text/x-python",
   "name": "python",
   "nbconvert_exporter": "python",
   "pygments_lexer": "ipython2",
   "version": "2.7.13"
  }
 },
 "nbformat": 4,
 "nbformat_minor": 1
}
