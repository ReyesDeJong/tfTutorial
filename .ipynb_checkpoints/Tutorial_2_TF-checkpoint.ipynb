{
 "cells": [
  {
   "cell_type": "markdown",
   "metadata": {},
   "source": [
    "# TensorFlow Tutorial 2: TensorBoard\n",
    "#### MNIST\n"
   ]
  },
  {
   "cell_type": "markdown",
   "metadata": {},
   "source": [
    "## Introducción\n",
    "\n",
    "Código base para generar una CNN. El objetivo es lograr la clasificación de las imágenes de MNIST."
   ]
  },
  {
   "cell_type": "markdown",
   "metadata": {},
   "source": [
    "## Dependencias"
   ]
  },
  {
   "cell_type": "code",
   "execution_count": 2,
   "metadata": {},
   "outputs": [
    {
     "name": "stdout",
     "output_type": "stream",
     "text": [
      "ready\n"
     ]
    }
   ],
   "source": [
    "%matplotlib inline\n",
    "from __future__ import absolute_import\n",
    "from __future__ import division\n",
    "from __future__ import print_function\n",
    "import matplotlib.pyplot as plt\n",
    "import tensorflow as tf\n",
    "import numpy as np\n",
    "from sklearn.metrics import confusion_matrix\n",
    "import time\n",
    "from datetime import timedelta\n",
    "import math\n",
    "print (\"ready\")"
   ]
  },
  {
   "cell_type": "markdown",
   "metadata": {},
   "source": [
    "Este código usa Python 2.7 en ambiente Anaconda (debería se compatible con cualquier versión de python) y TensorFlow versión:"
   ]
  },
  {
   "cell_type": "code",
   "execution_count": 3,
   "metadata": {},
   "outputs": [
    {
     "data": {
      "text/plain": [
       "'1.3.0'"
      ]
     },
     "execution_count": 3,
     "metadata": {},
     "output_type": "execute_result"
    }
   ],
   "source": [
    "tf.__version__"
   ]
  },
  {
   "cell_type": "markdown",
   "metadata": {},
   "source": [
    "## Configuración por defecto de la red convolucional\n",
    "\n",
    "La configuración macro de la red se muestra a continuación. Usted es libre de modificar estos parámetros según estime conveniente."
   ]
  },
  {
   "cell_type": "code",
   "execution_count": 4,
   "metadata": {},
   "outputs": [
    {
     "name": "stdout",
     "output_type": "stream",
     "text": [
      "ready\n"
     ]
    }
   ],
   "source": [
    "# Convolutional Layer 1.\n",
    "filter_size1 = 5          # Filtros son de 5 x 5 pixeles.\n",
    "num_filters1 = 16         # Hay 16 de estos filtros. Probar con 32\n",
    "\n",
    "# Convolutional Layer 2.\n",
    "filter_size2 = 5          # Filtros son de 5x5 pixeles.\n",
    "num_filters2 = 36         # Hay 16 de estos filtros. Probar con 64\n",
    "\n",
    "# Fully-connected layer.\n",
    "fc_size = 128             # Número de neuronas de la capa fully-connected. Probar con 1024\n",
    "\n",
    "print (\"ready\")"
   ]
  },
  {
   "cell_type": "markdown",
   "metadata": {},
   "source": [
    "## Descarga y/o carga de la base de datos"
   ]
  },
  {
   "cell_type": "markdown",
   "metadata": {},
   "source": [
    "La base de datos MNIST pesa aproximadamente 12 MB. Si no está en el directorio 'data/MNIST', será descargada automáticamente al ejecutar el siguiente bloque de código."
   ]
  },
  {
   "cell_type": "code",
   "execution_count": 5,
   "metadata": {},
   "outputs": [
    {
     "name": "stdout",
     "output_type": "stream",
     "text": [
      "Extracting data/MNIST/train-images-idx3-ubyte.gz\n",
      "Extracting data/MNIST/train-labels-idx1-ubyte.gz\n",
      "Extracting data/MNIST/t10k-images-idx3-ubyte.gz\n",
      "Extracting data/MNIST/t10k-labels-idx1-ubyte.gz\n"
     ]
    }
   ],
   "source": [
    "from tensorflow.examples.tutorials.mnist import input_data\n",
    "data = input_data.read_data_sets('data/MNIST/', one_hot=True)\n"
   ]
  },
  {
   "cell_type": "markdown",
   "metadata": {},
   "source": [
    "A continuación la base de datos es dividida en tres subconjuntos mutuamente excluyentes."
   ]
  },
  {
   "cell_type": "code",
   "execution_count": 6,
   "metadata": {},
   "outputs": [
    {
     "name": "stdout",
     "output_type": "stream",
     "text": [
      "Tamaños de los subconjuntos de la base de datos:\n",
      "Training-set:\t\t55000\n",
      "Test-set:\t\t10000\n",
      "Validation-set:\t\t5000\n"
     ]
    }
   ],
   "source": [
    "print(\"Tamaños de los subconjuntos de la base de datos:\")\n",
    "print(\"Training-set:\\t\\t{}\".format(len(data.train.labels)))\n",
    "print(\"Test-set:\\t\\t{}\".format(len(data.test.labels)))\n",
    "print(\"Validation-set:\\t\\t{}\".format(len(data.validation.labels)))"
   ]
  },
  {
   "cell_type": "markdown",
   "metadata": {},
   "source": [
    "Las etiquetas de las clases están codificadas en \"One-Hot\". El dígito \"cero\" corresponde a la clase 0, el dígito \"uno\" a la clase 1 y así sucesivamente.Para medir el desempeño de la red se guardan previamente las etiquetas de las clases del conjunto de prueba y validación:"
   ]
  },
  {
   "cell_type": "code",
   "execution_count": 7,
   "metadata": {},
   "outputs": [
    {
     "name": "stdout",
     "output_type": "stream",
     "text": [
      "ready\n"
     ]
    }
   ],
   "source": [
    "data.test.cls = np.argmax(data.test.labels, axis=1)\n",
    "data.validation.cls = np.argmax(data.test.labels, axis=1)\n",
    "print (\"ready\")"
   ]
  },
  {
   "cell_type": "markdown",
   "metadata": {},
   "source": [
    "## Dimensiones de los datos"
   ]
  },
  {
   "cell_type": "markdown",
   "metadata": {},
   "source": [
    "A continuación se definen variables que caracterizan a las imágenes de la base de datos."
   ]
  },
  {
   "cell_type": "code",
   "execution_count": 8,
   "metadata": {},
   "outputs": [
    {
     "name": "stdout",
     "output_type": "stream",
     "text": [
      "ready\n"
     ]
    }
   ],
   "source": [
    "# Las imágenes de MNIST son de 28 x 28 pixeles.\n",
    "img_size = 28\n",
    "# Tamaño de arreglos unidimensionales que podrían guardar los datos de estas imágenes.\n",
    "img_size_flat = img_size * img_size\n",
    "# Tupla que sirve para redimensionar arreglos.\n",
    "img_shape = (img_size, img_size)\n",
    "# Número de canales de color de las imágenes. Si las imágenes fueran a color, este número sería 3.\n",
    "num_channels = 1\n",
    "# Número de clases.\n",
    "num_classes = 10\n",
    "print (\"ready\")"
   ]
  },
  {
   "cell_type": "markdown",
   "metadata": {},
   "source": [
    "## TensorFlow Graph\n",
    "\n",
    "El propósito de TensorFlow es tener un \"computational graph\" que puede ser ejecutado de forma muy eficiente.\n",
    "\n",
    "Un \"TensorFlow graph\" posee las siguientes componentes:\n",
    "\n",
    "* \"Placeholder variables\", usadas para entregarle información de entrada al grafo.\n",
    "* Variables que serán optimizadas para que la CNN se desempeñe mejor.\n",
    "* Método de optimización para actualizar las variables.\n",
    "* Función de costo que sirve para encauzar la actualización de variables.\n",
    "* Formulas matemáticas que use la CNN.\n"
   ]
  },
  {
   "cell_type": "markdown",
   "metadata": {},
   "source": [
    "### Sumarios he histogramas\n",
    "\n",
    "Se creará una función para guardar muchos datos en tensor board"
   ]
  },
  {
   "cell_type": "code",
   "execution_count": 9,
   "metadata": {
    "collapsed": true
   },
   "outputs": [],
   "source": [
    "def variable_summaries(var):\n",
    "    \"\"\"Attach a lot of summaries to a Tensor (for TensorBoard visualization).\"\"\"\n",
    "    with tf.name_scope('summaries'):\n",
    "      mean = tf.reduce_mean(var)\n",
    "      tf.summary.scalar('mean', mean)\n",
    "      with tf.name_scope('stddev'):\n",
    "        stddev = tf.sqrt(tf.reduce_mean(tf.square(var - mean)))\n",
    "      tf.summary.scalar('stddev', stddev)\n",
    "      tf.summary.scalar('max', tf.reduce_max(var))\n",
    "      tf.summary.scalar('min', tf.reduce_min(var))\n",
    "      tf.summary.histogram('histogram', var)"
   ]
  },
  {
   "cell_type": "markdown",
   "metadata": {},
   "source": [
    "### Funciones para crear variables nuevas"
   ]
  },
  {
   "cell_type": "markdown",
   "metadata": {},
   "source": [
    "Sirven para que usted cree pesos y biases para su CNN.\n",
    "\n",
    "Los pesos estan formados por un tensor 4-D con las siguientes dimensiones:\n",
    "\n",
    "1. Alto del filtro.\n",
    "2. Ancho del filtro.\n",
    "3. Canales del filtro.\n",
    "4. Cantidad de filtros existentes por capa (número de featureMaps a generar)."
   ]
  },
  {
   "cell_type": "code",
   "execution_count": 10,
   "metadata": {},
   "outputs": [
    {
     "name": "stdout",
     "output_type": "stream",
     "text": [
      "ready\n"
     ]
    }
   ],
   "source": [
    "def new_weights(shape):\n",
    "    return tf.Variable(tf.truncated_normal(shape, stddev=0.05))\n",
    "\n",
    "def new_biases(length):\n",
    "    return tf.Variable(tf.constant(0.05, shape=[length]))\n",
    "print (\"ready\")"
   ]
  },
  {
   "cell_type": "markdown",
   "metadata": {},
   "source": [
    "### Función para crear una nueva CNN"
   ]
  },
  {
   "cell_type": "markdown",
   "metadata": {},
   "source": [
    "Esta función crea una capa convolucional en el \"computational graph\" de Tensorflow.\n",
    "\n",
    "Se asume que la entrada es un tensor 4-D con las siguientes dimensiones:\n",
    "\n",
    "1. Número de imágenes.\n",
    "2. Dimensión Y (cartesiana) de cada imagen.\n",
    "3. Dimensión X (cartesiana) de cada imagen.\n",
    "4. Canales de cada imagen.\n",
    "\n",
    "La salida es otro tensor 4-D con las siguientes dimensiones:\n",
    "\n",
    "1. Número de imágenes, el mismo que el de la entrada.\n",
    "2. Dimensión Y (cartesiana) de cada imagen. \n",
    "3. Dimensión X (cartesiana) de cada imagen.\n",
    "4. Canales producidos por los filtros convolucionales."
   ]
  },
  {
   "cell_type": "code",
   "execution_count": 11,
   "metadata": {},
   "outputs": [
    {
     "name": "stdout",
     "output_type": "stream",
     "text": [
      "ready\n"
     ]
    }
   ],
   "source": [
    "def new_conv_layer(input,              # Capa anterior.\n",
    "                   num_input_channels, # Numero de canales de la capa anterior.\n",
    "                   filter_size,        # Ancho y alto de cada filtro.\n",
    "                   num_filters,        # Número de filtros.\n",
    "                   layer_name = \"conv_layer\", #nombre de capa\n",
    "                   use_pooling=True):  # Usar 2x2 max-pooling.\n",
    "    \n",
    "    # Adding a name scope ensures logical grouping of the layers in the graph.\n",
    "    with tf.name_scope(layer_name):\n",
    "        # Forma de los filtros convolucionales (de acuerdo a la API de TF).\n",
    "        shape = [filter_size, filter_size, num_input_channels, num_filters]\n",
    "\n",
    "        # Creación de los filtros.\n",
    "        with tf.name_scope('weights'):\n",
    "            weights = new_weights(shape=shape)\n",
    "            #variable_summaries(weights)\n",
    "        \n",
    "        # Creación de biases, uno por filtro.\n",
    "        with tf.name_scope('biases'):\n",
    "            biases = new_biases(length=num_filters)\n",
    "            #variable_summaries(biases)\n",
    "\n",
    "        # Creación de la operación de convolución para TensorFlow.\n",
    "        # Notar que se han configurado los strides en 1 para todas las dimensiones.\n",
    "        # El primero y último stride siempre deben ser uno.\n",
    "        # Si strides=[1, 2, 2, 1], entonces el filtro es movido\n",
    "        # de 2 en 2 pixeles a lo largo de los ejes x e y de la imagen.\n",
    "        # padding='SAME' significa que la imagen de entrada se rellena\n",
    "        # con ceros para que el tamaño de la salida se mantenga.\n",
    "        # La otra alternativa es 'VALID', donde no hay zero-padding\n",
    "        with tf.name_scope('convol'):\n",
    "            layer = tf.nn.conv2d(input=input,\n",
    "                                 filter=weights,\n",
    "                                 strides=[1, 1, 1, 1],\n",
    "                                 padding='SAME')\n",
    "\n",
    "            # Agregar los biases a los resultados de la convolución.\n",
    "            layer += biases\n",
    "            #tf.summary.histogram('pre_activations', layer)\n",
    "            \n",
    "        # Rectified Linear Unit (ReLU).\n",
    "        layer = tf.nn.relu(layer, name='activation')\n",
    "        #tf.summary.histogram('activations', layer)\n",
    "\n",
    "        # Usar pooling para hacer down-sample de la entrada.\n",
    "        if use_pooling:\n",
    "            # Este es 2x2 max pooling, lo que significa que se considera\n",
    "            # una ventana de 2x2 y se selecciona el valor mayor\n",
    "            # de los 4 pixeles seleccionados. ksize representa las dimensiones de \n",
    "            # la ventana de pooling y el stride define cómo la ventana se mueve por la imagen.\n",
    "            with tf.name_scope('max_pool'):\n",
    "                layer = tf.nn.max_pool(value=layer,\n",
    "                                       ksize=[1, 2, 2, 1],\n",
    "                                       strides=[1, 2, 2, 1],\n",
    "                                       padding='SAME')\n",
    "\n",
    "\n",
    "\n",
    "        # La función retorna el resultado de la capa y los pesos aprendidos.\n",
    "        return layer, weights\n",
    "print (\"ready\")"
   ]
  },
  {
   "cell_type": "markdown",
   "metadata": {},
   "source": [
    "### Función para estirar un tensor de salida\n",
    "\n",
    "Se usa para reducir las dimensiones del tensor de salida de la capa convolucional a uno 2D que sirva de entrada a la capa fully connected."
   ]
  },
  {
   "cell_type": "code",
   "execution_count": 12,
   "metadata": {},
   "outputs": [
    {
     "name": "stdout",
     "output_type": "stream",
     "text": [
      "ready\n"
     ]
    }
   ],
   "source": [
    "def flatten_layer(layer):\n",
    "    with tf.name_scope('flatten_stage'):\n",
    "        # Obtener dimensiones de la entrada.\n",
    "        layer_shape = layer.get_shape()\n",
    "\n",
    "        # Obtener numero de características.\n",
    "        num_features = layer_shape[1:4].num_elements()\n",
    "\n",
    "        # Redimensionar la salida a [num_images, num_features].\n",
    "        layer_flat = tf.reshape(layer, [-1, num_features])\n",
    "\n",
    "        # Las dimensiones de la salida son ahora:\n",
    "        # [num_images, img_height * img_width * num_channels]\n",
    "        # Retornar\n",
    "        return layer_flat, num_features\n",
    "print (\"ready\")"
   ]
  },
  {
   "cell_type": "markdown",
   "metadata": {},
   "source": [
    "### Función para crear capa fully-connected"
   ]
  },
  {
   "cell_type": "code",
   "execution_count": 13,
   "metadata": {},
   "outputs": [
    {
     "name": "stdout",
     "output_type": "stream",
     "text": [
      "ready\n"
     ]
    }
   ],
   "source": [
    "def new_fc_layer(input,          # Capa anterior.\n",
    "                 num_inputs,     # Numero de entradas.\n",
    "                 num_outputs,    # Numero de salidas.\n",
    "                 keep=1,           # probabilidad de permanencia de la neurona\n",
    "                 layer_name=\"fc_later\",  #nombre de capa\n",
    "                 use_dropout=False, # usar o no Dropout\n",
    "                 use_relu=True): # Decide si usar ReLU o no.\n",
    "    \n",
    "    with tf.name_scope(layer_name):\n",
    "        # Crear pesos y biases.\n",
    "        with tf.name_scope('weights'):\n",
    "            weights = new_weights(shape=[num_inputs, num_outputs])\n",
    "            variable_summaries(weights)\n",
    "        with tf.name_scope('biases'):\n",
    "            biases = new_biases(length=num_outputs)\n",
    "            variable_summaries(biases)\n",
    "            \n",
    "        # Evaluar capa fully connected.\n",
    "        layer = tf.matmul(input, weights) + biases\n",
    "        tf.summary.histogram('pre_activations', layer)\n",
    "\n",
    "        # Usar ReLU? OJO: última capa no utiliza activación, debido a normalización softmax\n",
    "        if use_relu:\n",
    "            layer = tf.nn.relu(layer, name='activation')\n",
    "            tf.summary.histogram('activations', layer)\n",
    "\n",
    "        # Usar DropOut? OJO: última capa no usa DropOut, osino perdería codificación OneHot\n",
    "        if use_dropout:\n",
    "            with tf.name_scope('dropout'):\n",
    "                layer=tf.nn.dropout(layer,keep_prob=keep)\n",
    "\n",
    "        return layer\n",
    "print (\"ready\")"
   ]
  },
  {
   "cell_type": "markdown",
   "metadata": {},
   "source": [
    "### Placeholder variables"
   ]
  },
  {
   "cell_type": "markdown",
   "metadata": {},
   "source": [
    "Las variables \"placeholder\" sirven como entradas para el \"computational graph\" de Tensorflow.\n",
    "Primero se define una variable placeholder para las imágenes de entrada. Estas son interpretadas como \"tensores\" (vectores o matrices multidimensionales). El tipo de datos se configura como `float32`, y su forma se deja como `[None, img_size_flat]`, donde `None` significa que el tensor puede contener un numero arbitrario de imágenes, cada una representada como un vector de largo `img_size_flat`."
   ]
  },
  {
   "cell_type": "code",
   "execution_count": 14,
   "metadata": {},
   "outputs": [
    {
     "name": "stdout",
     "output_type": "stream",
     "text": [
      "ready\n"
     ]
    }
   ],
   "source": [
    "with tf.name_scope('input'):\n",
    "    keep_prob = tf.placeholder(tf.float32)\n",
    "    \n",
    "    x = tf.placeholder(tf.float32, shape=[None, img_size_flat], name='x-input')\n",
    "    x_image = tf.reshape(x, [-1, img_size, img_size, num_channels])\n",
    "\n",
    "    y_true = tf.placeholder(tf.float32, shape=[None, 10], name='y_true-input')\n",
    "    y_true_cls = tf.argmax(y_true, axis=1)\n",
    "print (\"ready\")"
   ]
  },
  {
   "cell_type": "markdown",
   "metadata": {},
   "source": [
    "### Capa de convolución 1\n",
    "\n",
    "Creación de la primera capa de convolución. Al final se realiza submuestreo con un 2x2 max-pooling."
   ]
  },
  {
   "cell_type": "code",
   "execution_count": 15,
   "metadata": {},
   "outputs": [
    {
     "name": "stdout",
     "output_type": "stream",
     "text": [
      "ready\n"
     ]
    }
   ],
   "source": [
    "layer_conv1, weights_conv1 = \\\n",
    "    new_conv_layer(input=x_image,\n",
    "                   num_input_channels=num_channels,\n",
    "                   filter_size=filter_size1,\n",
    "                   num_filters=num_filters1,\n",
    "                   layer_name=\"conv_layer_1\",\n",
    "                   use_pooling=True)\n",
    "\n",
    "layer_conv2, weights_conv2 = \\\n",
    "    new_conv_layer(input=layer_conv1,\n",
    "                   num_input_channels=num_filters1,\n",
    "                   filter_size=filter_size2,\n",
    "                   num_filters=num_filters2,\n",
    "                   layer_name=\"conv_layer_2\",\n",
    "                   use_pooling=True)\n",
    "    \n",
    "layer_flat, num_features = flatten_layer(layer_conv2)\n",
    "\n",
    "layer_fc1 = new_fc_layer(input=layer_flat,\n",
    "                         num_inputs=num_features,\n",
    "                         num_outputs=fc_size,\n",
    "                         keep=keep_prob,\n",
    "                         layer_name=\"fc_layer_1\",\n",
    "                         use_dropout=True,\n",
    "                         use_relu=True)\n",
    "\n",
    "layer_fc2 = new_fc_layer(input=layer_fc1,\n",
    "                         num_inputs=fc_size,\n",
    "                         num_outputs=num_classes,\n",
    "                         layer_name=\"fc_layer_2\",\n",
    "                         use_relu=False)\n",
    "print (\"ready\")"
   ]
  },
  {
   "cell_type": "markdown",
   "metadata": {},
   "source": [
    "### Clase predicha"
   ]
  },
  {
   "cell_type": "markdown",
   "metadata": {},
   "source": [
    "Se utiliza softmax para normalizar la salida, luego se toma el valor máximo."
   ]
  },
  {
   "cell_type": "markdown",
   "metadata": {},
   "source": [
    "### Función de costo"
   ]
  },
  {
   "cell_type": "markdown",
   "metadata": {},
   "source": [
    "Usamos cross-entropy.\n",
    "Tensorflow la implementa de forma nativa. Como la función calcula softmax internamente, debe entregarsele la salida de la capa fully-connected 2 directamente."
   ]
  },
  {
   "cell_type": "code",
   "execution_count": 16,
   "metadata": {},
   "outputs": [
    {
     "name": "stdout",
     "output_type": "stream",
     "text": [
      "ready\n"
     ]
    }
   ],
   "source": [
    "with tf.name_scope('soft-max'):\n",
    "    y_pred = tf.nn.softmax(layer_fc2)\n",
    "with tf.name_scope('predicted_class'):\n",
    "    y_pred_cls = tf.argmax(y_pred, axis=1)\n",
    "print(\"ready\")"
   ]
  },
  {
   "cell_type": "code",
   "execution_count": 17,
   "metadata": {},
   "outputs": [],
   "source": [
    "with tf.name_scope('cross_entropy'):\n",
    "    cross_entropy = tf.nn.softmax_cross_entropy_with_logits(logits=layer_fc2,\n",
    "                                                            labels=y_true)\n",
    "    with tf.name_scope('cost'):\n",
    "        cost = tf.reduce_mean(cross_entropy)\n"
   ]
  },
  {
   "cell_type": "markdown",
   "metadata": {},
   "source": [
    "### Método de optimización"
   ]
  },
  {
   "cell_type": "markdown",
   "metadata": {},
   "source": [
    "Usamos `AdamOptimizer`.\n",
    "Puede cambiarlo según se pida en la tarea."
   ]
  },
  {
   "cell_type": "code",
   "execution_count": 18,
   "metadata": {},
   "outputs": [
    {
     "name": "stdout",
     "output_type": "stream",
     "text": [
      "ready\n"
     ]
    }
   ],
   "source": [
    "with tf.name_scope('train'):\n",
    "    optimizer = tf.train.AdamOptimizer(learning_rate=1e-4).minimize(cost)\n",
    "print(\"ready\")"
   ]
  },
  {
   "cell_type": "markdown",
   "metadata": {},
   "source": [
    "### Medida de desempeño"
   ]
  },
  {
   "cell_type": "markdown",
   "metadata": {},
   "source": [
    "Se obtiene un vector de booleanos que indican si la clase predicha es o no igual a la clase verdadera de cada imagen.\n",
    "Luego dicho vector se niega para que True sea 1, y se calcula el promedio."
   ]
  },
  {
   "cell_type": "code",
   "execution_count": 20,
   "metadata": {},
   "outputs": [
    {
     "name": "stdout",
     "output_type": "stream",
     "text": [
      "ready\n"
     ]
    }
   ],
   "source": [
    "with tf.name_scope('accuracy'):\n",
    "    with tf.name_scope('correct_prediction'):\n",
    "        correct_prediction = tf.equal(y_pred_cls, y_true_cls)\n",
    "    with tf.name_scope('accuracy'):\n",
    "        accuracy = tf.reduce_mean(tf.cast(correct_prediction, tf.float32))\n",
    "tf.summary.scalar('accuracy', accuracy)\n",
    "print(\"ready\")"
   ]
  },
  {
   "cell_type": "markdown",
   "metadata": {},
   "source": [
    "## Ejecutar TensorFlow "
   ]
  },
  {
   "cell_type": "markdown",
   "metadata": {},
   "source": [
    "### Crear TensorFlow session\n",
    "\n",
    "Ya creado el grafo de TF, se crea una sesión para ejecutarlo."
   ]
  },
  {
   "cell_type": "code",
   "execution_count": 21,
   "metadata": {},
   "outputs": [
    {
     "name": "stdout",
     "output_type": "stream",
     "text": [
      "ready\n"
     ]
    }
   ],
   "source": [
    "sess = tf.Session(config=tf.ConfigProto(log_device_placement=True)) #tf.InteractiveSession() #with tf.Session() as sess:\n",
    "print(\"ready\")"
   ]
  },
  {
   "cell_type": "markdown",
   "metadata": {},
   "source": [
    "### Logs de TensorBoard\n",
    "\n",
    "Después de ejecutar el entrenamiento, abrir una consola con el ambiente de TensorFlow activo y ejecutar\n",
    "\n",
    "tensorboard --logdir=\"/home/asceta/Documents/tfTutorial/TB/tmp/mnist_tutorial/2\"\n",
    "\n",
    "A continuación se generará un link para abrir en el navegador, el que mostrará la info del grafo en TensorBoard"
   ]
  },
  {
   "cell_type": "code",
   "execution_count": 22,
   "metadata": {},
   "outputs": [],
   "source": [
    "# path a logs donde se guardará la info del grafo. Cambiar por ruta propia.\n",
    "LOGDIR = \"/home/asceta/Documents/tfTutorial/TB/tmp/mnist_tutorial/2\"\n",
    "\n",
    "#recolección de todos los summaries\n",
    "merged = tf.summary.merge_all()\n",
    "train_writer = tf.summary.FileWriter(LOGDIR + '/train', sess.graph)\n",
    "val_writer = tf.summary.FileWriter(LOGDIR + '/val')"
   ]
  },
  {
   "cell_type": "markdown",
   "metadata": {},
   "source": [
    "### Inicialización de variables"
   ]
  },
  {
   "cell_type": "code",
   "execution_count": 23,
   "metadata": {},
   "outputs": [
    {
     "name": "stdout",
     "output_type": "stream",
     "text": [
      "ready\n"
     ]
    }
   ],
   "source": [
    "sess.run(tf.global_variables_initializer())\n",
    "print(\"ready\")"
   ]
  },
  {
   "cell_type": "markdown",
   "metadata": {},
   "source": [
    "### Función para realizar optimización"
   ]
  },
  {
   "cell_type": "code",
   "execution_count": 24,
   "metadata": {},
   "outputs": [
    {
     "name": "stdout",
     "output_type": "stream",
     "text": [
      "ready\n"
     ]
    }
   ],
   "source": [
    "# Entrenamiento realizado por batches.\n",
    "train_batch_size = 100\n",
    "\n",
    "# Contador de iteraciones.\n",
    "total_iterations = 0\n",
    "\n",
    "#entregar variables para entrenamiento y validación\n",
    "def feed_dict(mnist, train, batch_size, dropout=1):\n",
    "    if train:\n",
    "        xs, ys = data.train.next_batch(batch_size)\n",
    "        k = dropout\n",
    "    else:\n",
    "        xs= data.validation.images\n",
    "        ys = data.validation.labels\n",
    "        k = 1.0\n",
    "    return xs, ys, k\n",
    "\n",
    "\n",
    "def optimize(num_iterations):\n",
    "\n",
    "    #contador de epocas\n",
    "    j=0\n",
    "    #numero de iteraciones por epoca\n",
    "    ep=55000/train_batch_size\n",
    "    \n",
    "    # Tiempo de inicio\n",
    "    start_time = time.time()\n",
    "\n",
    "    for i in range(num_iterations):\n",
    "\n",
    "        # Obtener batch de conjunto de entrenamiento.\n",
    "        x_batch, y_true_batch, keep = feed_dict(data, True, train_batch_size, dropout=0.5)\n",
    "\n",
    "        # Se pone el batch en un diccionario asignandole nombres de las\n",
    "        # variables placeholder antes definidas.\n",
    "        feed_dict_train = {x: x_batch,\n",
    "                           y_true: y_true_batch, keep_prob: keep}\n",
    "\n",
    "\n",
    "\n",
    "        # Se imprime numero de epoca de entrenamiento, junto al accuracy de Validación.\n",
    "        if i % ep == 0:\n",
    "            msg = \"epoca: {0:>6}\"\n",
    "            print(msg.format(j+1))\n",
    "            \n",
    "            d_t = feed_dict(data, False, train_batch_size)\n",
    "            inp_t = {x:d_t[0], y_true:d_t[1], keep_prob:d_t[2]}\n",
    "            summary, acc = sess.run([merged, accuracy], feed_dict=inp_t) \n",
    "            val_writer.add_summary(summary, i)\n",
    "            num_val = len(data.validation.images)\n",
    "            correct_sum = acc*num_val\n",
    "            msg = \"Accuracy on Validation-Set: {0:.1%} ({1} / {2})\"\n",
    "            print(msg.format(acc, correct_sum, num_val))\n",
    "            j+=1\n",
    "        \n",
    "        #se imprime el train accuracy cada ep/10 iteraciones\n",
    "        if i % (ep/10) == 0:\n",
    "            train_acc = {x: x_batch,\n",
    "                           y_true: y_true_batch, keep_prob: 1.0}\n",
    "            summary, acc = sess.run([merged, accuracy], feed_dict=train_acc)\n",
    "            train_writer.add_summary(summary, i)\n",
    "            msg = \"Iterations: {0:>6}, Training Accuracy: {1:>6.1%}\"\n",
    "            print(msg.format(i, acc))\n",
    "        \n",
    "        # Ejecución del optimizador con los batches del diccionario.\n",
    "        sess.run(optimizer, feed_dict=feed_dict_train)\n",
    "\n",
    "    # Tiempo de finalización.\n",
    "    end_time = time.time()\n",
    "\n",
    "    # Tiempo transcurrido.\n",
    "    time_dif = end_time - start_time\n",
    "\n",
    "    train_writer.close()\n",
    "    val_writer.close()\n",
    "    print(\"Time usage: \" + str(timedelta(seconds=int(round(time_dif)))))\n",
    "\n",
    "\n",
    "print(\"ready\")"
   ]
  },
  {
   "cell_type": "markdown",
   "metadata": {},
   "source": [
    "### Función para mostrar desempeño en test-set"
   ]
  },
  {
   "cell_type": "code",
   "execution_count": 25,
   "metadata": {},
   "outputs": [
    {
     "name": "stdout",
     "output_type": "stream",
     "text": [
      "ready\n"
     ]
    }
   ],
   "source": [
    "# Dividir test set en batches. (Usa batches mas pequeños si la RAM falla).\n",
    "test_batch_size = 256\n",
    "\n",
    "def print_test_accuracy():\n",
    "\n",
    "    # Número de imagenes en test-set.\n",
    "    num_test = len(data.test.images)\n",
    "\n",
    "    # Crea arreglo para guardar clases predichas.\n",
    "    cls_pred = np.zeros(shape=num_test, dtype=np.int)\n",
    "\n",
    "    # Calcular clases predichas.\n",
    "    i = 0\n",
    "    while i < num_test:\n",
    "        \n",
    "        j = min(i + test_batch_size, num_test)\n",
    "        images = data.test.images[i:j, :]\n",
    "        labels = data.test.labels[i:j, :]\n",
    "        feed_dict = {x: images,\n",
    "                     y_true: labels, keep_prob: 1.0}\n",
    "\n",
    "        cls_pred[i:j] = sess.run(y_pred_cls, feed_dict=feed_dict)\n",
    "        i = j\n",
    "    \n",
    "    # Labels reales.\n",
    "    cls_true = data.test.cls\n",
    "\n",
    "    # Arreglo booleano de clasificaciones correctas.\n",
    "    correct = (cls_true == cls_pred)\n",
    "    \n",
    "    #Número de clasificaciones correctas.\n",
    "    correct_sum = correct.sum()\n",
    "\n",
    "    # Accuracy\n",
    "    acc = float(correct_sum) / num_test\n",
    "    msg = \"Accuracy on Test-Set: {0:.1%} ({1} / {2})\"\n",
    "    print(msg.format(acc, correct_sum, num_test))\n",
    "    \n",
    "print(\"ready\")"
   ]
  },
  {
   "cell_type": "markdown",
   "metadata": {},
   "source": [
    "## Optimizar\n",
    "\n",
    "Elige un número de iteraciones y entrena la CNN."
   ]
  },
  {
   "cell_type": "code",
   "execution_count": 26,
   "metadata": {
    "scrolled": false
   },
   "outputs": [
    {
     "name": "stdout",
     "output_type": "stream",
     "text": [
      "epoca:      1\n",
      "Accuracy on Validation-Set: 13.8% (692.00001657 / 5000)\n",
      "Iterations:      0, Training Accuracy:  11.0%\n",
      "Iterations:     55, Training Accuracy:  52.0%\n",
      "Iterations:    110, Training Accuracy:  58.0%\n",
      "Iterations:    165, Training Accuracy:  76.0%\n",
      "Iterations:    220, Training Accuracy:  79.0%\n",
      "Iterations:    275, Training Accuracy:  82.0%\n",
      "Iterations:    330, Training Accuracy:  91.0%\n",
      "Iterations:    385, Training Accuracy:  80.0%\n",
      "Iterations:    440, Training Accuracy:  94.0%\n",
      "Iterations:    495, Training Accuracy:  96.0%\n",
      "epoca:      2\n",
      "Accuracy on Validation-Set: 90.7% (4535.00002623 / 5000)\n",
      "Iterations:    550, Training Accuracy:  91.0%\n",
      "Iterations:    605, Training Accuracy:  91.0%\n",
      "Iterations:    660, Training Accuracy:  87.0%\n",
      "Iterations:    715, Training Accuracy:  90.0%\n",
      "Iterations:    770, Training Accuracy:  88.0%\n",
      "Iterations:    825, Training Accuracy:  92.0%\n",
      "Iterations:    880, Training Accuracy:  94.0%\n",
      "Iterations:    935, Training Accuracy:  86.0%\n",
      "Iterations:    990, Training Accuracy:  87.0%\n",
      "Iterations:   1045, Training Accuracy:  92.0%\n",
      "epoca:      3\n",
      "Accuracy on Validation-Set: 94.0% (4699.99998808 / 5000)\n",
      "Iterations:   1100, Training Accuracy:  91.0%\n",
      "Time usage: 0:02:55\n"
     ]
    }
   ],
   "source": [
    "#Definir número de iteraciones que desea entrenar a la red\n",
    "optimize(num_iterations=1101) "
   ]
  },
  {
   "cell_type": "code",
   "execution_count": 27,
   "metadata": {
    "scrolled": true
   },
   "outputs": [
    {
     "name": "stdout",
     "output_type": "stream",
     "text": [
      "Accuracy on Test-Set: 94.0% (9401 / 10000)\n"
     ]
    }
   ],
   "source": [
    "print_test_accuracy()"
   ]
  },
  {
   "cell_type": "markdown",
   "metadata": {},
   "source": [
    "### Cerrar TensorFlow Session"
   ]
  },
  {
   "cell_type": "code",
   "execution_count": 223,
   "metadata": {},
   "outputs": [
    {
     "name": "stdout",
     "output_type": "stream",
     "text": [
      "ready\n"
     ]
    }
   ],
   "source": [
    "# Si usted ejecuta esta linea de código debe cerrar el notebook y reiniciarlo.\n",
    "# Es solo para informar como liberar los recursos que ocupa TF.\n",
    "tf.reset_default_graph()\n",
    "sess.close()\n",
    "print(\"ready\")"
   ]
  },
  {
   "cell_type": "markdown",
   "metadata": {},
   "source": [
    "### Diferencia entre .eval y .run "
   ]
  },
  {
   "cell_type": "code",
   "execution_count": 51,
   "metadata": {
    "collapsed": true
   },
   "outputs": [],
   "source": [
    "t = tf.constant(42.0)\n",
    "u = tf.constant(37.0)\n",
    "tu = t*u\n",
    "ut = u*t\n",
    "with tf.Session() as sess:\n",
    "   sess.run(tf.global_variables_initializer())\n",
    "   assert t.eval() == sess.run(t)\n",
    "   tu.eval()  # runs one step and useful to evaluate a tensor, equivalent to sess.run(tu)\n",
    "   ut.eval()  # runs one step\n",
    "   sess.run([tu, ut])  # evaluates both tensors in a single step"
   ]
  }
 ],
 "metadata": {
  "anaconda-cloud": {},
  "kernelspec": {
   "display_name": "Python 2",
   "language": "python",
   "name": "python2"
  },
  "language_info": {
   "codemirror_mode": {
    "name": "ipython",
    "version": 2
   },
   "file_extension": ".py",
   "mimetype": "text/x-python",
   "name": "python",
   "nbconvert_exporter": "python",
   "pygments_lexer": "ipython2",
   "version": "2.7.13"
  }
 },
 "nbformat": 4,
 "nbformat_minor": 1
}
